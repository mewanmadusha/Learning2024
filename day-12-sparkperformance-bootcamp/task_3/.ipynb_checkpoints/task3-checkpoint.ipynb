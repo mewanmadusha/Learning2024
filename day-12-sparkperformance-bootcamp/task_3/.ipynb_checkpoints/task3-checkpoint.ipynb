{
 "cells": [
  {
   "cell_type": "code",
   "execution_count": 22,
   "id": "0f9028bd-86dd-41ca-98f1-922bab766889",
   "metadata": {},
   "outputs": [
    {
     "ename": "ValueError",
     "evalue": "Cannot run multiple SparkContexts at once; existing SparkContext(app=Test, master=local[1]) created by __init__ at /var/folders/4q/s41bc49s2rq_883tkzfprrnw0000gn/T/ipykernel_32916/582708877.py:7 ",
     "output_type": "error",
     "traceback": [
      "\u001b[0;31m---------------------------------------------------------------------------\u001b[0m",
      "\u001b[0;31mValueError\u001b[0m                                Traceback (most recent call last)",
      "Cell \u001b[0;32mIn[22], line 7\u001b[0m\n\u001b[1;32m      5\u001b[0m \u001b[38;5;66;03m# Set up the Spark configuration\u001b[39;00m\n\u001b[1;32m      6\u001b[0m conf \u001b[38;5;241m=\u001b[39m SparkConf()\u001b[38;5;241m.\u001b[39msetAppName(\u001b[38;5;124m\"\u001b[39m\u001b[38;5;124mTest\u001b[39m\u001b[38;5;124m\"\u001b[39m)\u001b[38;5;241m.\u001b[39msetMaster(\u001b[38;5;124m\"\u001b[39m\u001b[38;5;124mlocal[1]\u001b[39m\u001b[38;5;124m\"\u001b[39m)\n\u001b[0;32m----> 7\u001b[0m sc1 \u001b[38;5;241m=\u001b[39m \u001b[43mSparkContext\u001b[49m\u001b[43m(\u001b[49m\u001b[43mconf\u001b[49m\u001b[38;5;241;43m=\u001b[39;49m\u001b[43mconf\u001b[49m\u001b[43m)\u001b[49m\n\u001b[1;32m      8\u001b[0m spark \u001b[38;5;241m=\u001b[39m SparkSession(sc1)\n\u001b[1;32m     10\u001b[0m \u001b[38;5;66;03m# Execution time measurement for code blocks\u001b[39;00m\n",
      "File \u001b[0;32m~/miniconda3/envs/sparkenv/lib/python3.12/site-packages/pyspark/context.py:201\u001b[0m, in \u001b[0;36mSparkContext.__init__\u001b[0;34m(self, master, appName, sparkHome, pyFiles, environment, batchSize, serializer, conf, gateway, jsc, profiler_cls, udf_profiler_cls, memory_profiler_cls)\u001b[0m\n\u001b[1;32m    195\u001b[0m \u001b[38;5;28;01mif\u001b[39;00m gateway \u001b[38;5;129;01mis\u001b[39;00m \u001b[38;5;129;01mnot\u001b[39;00m \u001b[38;5;28;01mNone\u001b[39;00m \u001b[38;5;129;01mand\u001b[39;00m gateway\u001b[38;5;241m.\u001b[39mgateway_parameters\u001b[38;5;241m.\u001b[39mauth_token \u001b[38;5;129;01mis\u001b[39;00m \u001b[38;5;28;01mNone\u001b[39;00m:\n\u001b[1;32m    196\u001b[0m     \u001b[38;5;28;01mraise\u001b[39;00m \u001b[38;5;167;01mValueError\u001b[39;00m(\n\u001b[1;32m    197\u001b[0m         \u001b[38;5;124m\"\u001b[39m\u001b[38;5;124mYou are trying to pass an insecure Py4j gateway to Spark. This\u001b[39m\u001b[38;5;124m\"\u001b[39m\n\u001b[1;32m    198\u001b[0m         \u001b[38;5;124m\"\u001b[39m\u001b[38;5;124m is not allowed as it is a security risk.\u001b[39m\u001b[38;5;124m\"\u001b[39m\n\u001b[1;32m    199\u001b[0m     )\n\u001b[0;32m--> 201\u001b[0m \u001b[43mSparkContext\u001b[49m\u001b[38;5;241;43m.\u001b[39;49m\u001b[43m_ensure_initialized\u001b[49m\u001b[43m(\u001b[49m\u001b[38;5;28;43mself\u001b[39;49m\u001b[43m,\u001b[49m\u001b[43m \u001b[49m\u001b[43mgateway\u001b[49m\u001b[38;5;241;43m=\u001b[39;49m\u001b[43mgateway\u001b[49m\u001b[43m,\u001b[49m\u001b[43m \u001b[49m\u001b[43mconf\u001b[49m\u001b[38;5;241;43m=\u001b[39;49m\u001b[43mconf\u001b[49m\u001b[43m)\u001b[49m\n\u001b[1;32m    202\u001b[0m \u001b[38;5;28;01mtry\u001b[39;00m:\n\u001b[1;32m    203\u001b[0m     \u001b[38;5;28mself\u001b[39m\u001b[38;5;241m.\u001b[39m_do_init(\n\u001b[1;32m    204\u001b[0m         master,\n\u001b[1;32m    205\u001b[0m         appName,\n\u001b[0;32m   (...)\u001b[0m\n\u001b[1;32m    215\u001b[0m         memory_profiler_cls,\n\u001b[1;32m    216\u001b[0m     )\n",
      "File \u001b[0;32m~/miniconda3/envs/sparkenv/lib/python3.12/site-packages/pyspark/context.py:449\u001b[0m, in \u001b[0;36mSparkContext._ensure_initialized\u001b[0;34m(cls, instance, gateway, conf)\u001b[0m\n\u001b[1;32m    446\u001b[0m     callsite \u001b[38;5;241m=\u001b[39m SparkContext\u001b[38;5;241m.\u001b[39m_active_spark_context\u001b[38;5;241m.\u001b[39m_callsite\n\u001b[1;32m    448\u001b[0m     \u001b[38;5;66;03m# Raise error if there is already a running Spark context\u001b[39;00m\n\u001b[0;32m--> 449\u001b[0m     \u001b[38;5;28;01mraise\u001b[39;00m \u001b[38;5;167;01mValueError\u001b[39;00m(\n\u001b[1;32m    450\u001b[0m         \u001b[38;5;124m\"\u001b[39m\u001b[38;5;124mCannot run multiple SparkContexts at once; \u001b[39m\u001b[38;5;124m\"\u001b[39m\n\u001b[1;32m    451\u001b[0m         \u001b[38;5;124m\"\u001b[39m\u001b[38;5;124mexisting SparkContext(app=\u001b[39m\u001b[38;5;132;01m%s\u001b[39;00m\u001b[38;5;124m, master=\u001b[39m\u001b[38;5;132;01m%s\u001b[39;00m\u001b[38;5;124m)\u001b[39m\u001b[38;5;124m\"\u001b[39m\n\u001b[1;32m    452\u001b[0m         \u001b[38;5;124m\"\u001b[39m\u001b[38;5;124m created by \u001b[39m\u001b[38;5;132;01m%s\u001b[39;00m\u001b[38;5;124m at \u001b[39m\u001b[38;5;132;01m%s\u001b[39;00m\u001b[38;5;124m:\u001b[39m\u001b[38;5;132;01m%s\u001b[39;00m\u001b[38;5;124m \u001b[39m\u001b[38;5;124m\"\u001b[39m\n\u001b[1;32m    453\u001b[0m         \u001b[38;5;241m%\u001b[39m (\n\u001b[1;32m    454\u001b[0m             currentAppName,\n\u001b[1;32m    455\u001b[0m             currentMaster,\n\u001b[1;32m    456\u001b[0m             callsite\u001b[38;5;241m.\u001b[39mfunction,\n\u001b[1;32m    457\u001b[0m             callsite\u001b[38;5;241m.\u001b[39mfile,\n\u001b[1;32m    458\u001b[0m             callsite\u001b[38;5;241m.\u001b[39mlinenum,\n\u001b[1;32m    459\u001b[0m         )\n\u001b[1;32m    460\u001b[0m     )\n\u001b[1;32m    461\u001b[0m \u001b[38;5;28;01melse\u001b[39;00m:\n\u001b[1;32m    462\u001b[0m     SparkContext\u001b[38;5;241m.\u001b[39m_active_spark_context \u001b[38;5;241m=\u001b[39m instance\n",
      "\u001b[0;31mValueError\u001b[0m: Cannot run multiple SparkContexts at once; existing SparkContext(app=Test, master=local[1]) created by __init__ at /var/folders/4q/s41bc49s2rq_883tkzfprrnw0000gn/T/ipykernel_32916/582708877.py:7 "
     ]
    }
   ],
   "source": [
    "from pyspark import SparkConf, SparkContext\n",
    "from pyspark.sql import SparkSession\n",
    "from pyspark.sql import Row\n",
    "\n",
    "# Set up the Spark configuration\n",
    "conf = SparkConf().setAppName(\"Test\").setMaster(\"local[1]\")\n",
    "sc = SparkContext(conf=conf)\n",
    "spark = SparkSession(sc).getOrCreate()\n",
    "\n",
    "# Execution time measurement for code blocks\n",
    "def time(block):\n",
    "    import time\n",
    "    t0 = time.time()\n",
    "    result = block()\n",
    "    t1 = time.time()\n",
    "    print(\"Elapsed time:\", (t1 - t0), \"seconds\")\n",
    "    return result\n",
    "\n",
    "def unoptimalCode1(text):\n",
    "    # Ignore empty lines\n",
    "    nonEmptyLines = text.filter(lambda x: len(x.strip()) > 0)\n",
    "\n",
    "    # Get first tab-separated token from each line (code)\n",
    "    codes = nonEmptyLines.map(lambda x: x.split('\\t')[0])\n",
    "\n",
    "    # Codes grouped by 2 first characters\n",
    "    groupedCodes = codes.groupBy(lambda x: x[:2])\n",
    "\n",
    "    # Compute sizes of all groups\n",
    "    groupSizes = groupedCodes.map(lambda group: (group[0], len(group[1])))\n",
    "\n",
    "    # Sort groups by sizes descending\n",
    "    sortedGroups = groupSizes.sortBy(lambda x: x[1], ascending=False)\n",
    "\n",
    "    # Get 3 groups with most members\n",
    "    top3Groups = sortedGroups.map(lambda x: x[0]).take(3)\n",
    "\n",
    "    # Sort groups by sizes ascending\n",
    "    sortedGroupsAsc = groupSizes.sortBy(lambda x: x[1])\n",
    "\n",
    "    # Get 3 groups with least members\n",
    "    bottom3Groups = sortedGroupsAsc.map(lambda x: x[0]).take(3)\n",
    "\n",
    "    return top3Groups, bottom3Groups\n",
    "\n",
    "def optimalCode1(text):\n",
    "    # Ignore empty lines and get the first tab-separated token\n",
    "    codes = (\n",
    "        text.filter(lambda x: len(x.strip()) > 0)\n",
    "        .map(lambda x: (x.split('\\t')[0][:2], 1))  # Map to (code_prefix, 1) pairs\n",
    "    )\n",
    "\n",
    "    # use shuffeling to reduce shuffeled data\n",
    "    # Use reduceByKey to efficiently calculate group sizes\n",
    "    # also use aggregate data based on keys\n",
    "    groupSizes = codes.reduceByKey(lambda x, y: x + y)\n",
    "\n",
    "    # Get the 3 groups with the most members\n",
    "    # takeOrdered used to get specified number of elements from data\n",
    "    top3Groups = groupSizes.takeOrdered(3, key=lambda x: -x[1])\n",
    "\n",
    "    # Get the 3 groups with the least members\n",
    "    bottom3Groups = groupSizes.takeOrdered(3, key=lambda x: x[1])\n",
    "\n",
    "    return [group[0] for group in top3Groups], [group[0] for group in bottom3Groups]\n",
    "\n",
    "\n",
    "# def unoptimalCode2(crimesDb, commitedCrimes):\n",
    "#     # TODO: Implement unoptimalCode2\n",
    "#     pass\n",
    "\n",
    "def optimalCode2(crimesDb, commitedCrimes):\n",
    "    # use shared variable\n",
    "    # Broadcast crimesDb to all worker nodes for efficient lookup\n",
    "    crimesBroadcast = sc.broadcast(set(crimesDb.collect()))\n",
    "\n",
    "    # caching\n",
    "    # Filter commited crimes using broadcasted crimesDb for efficient lookup\n",
    "    # if we run this code second time it take much less time\n",
    "    matchingCrimes = commitedCrimes.filter(lambda x: x in crimesBroadcast.value)\n",
    "\n",
    "    return matchingCrimes\n",
    "\n",
    "if __name__ == \"__main__\":\n",
    "    # Read text into RDD\n",
    "    crimeCategories = sc.textFile(\"ucr_ncic_codes.tsv\")\n",
    "\n",
    "    # Measure time for unoptimalCode1\n",
    "    top, bottom = time(lambda: unoptimalCode1(crimeCategories))\n",
    "    print(f\"({','.join(top)}...{','.join(bottom[::-1])})\")\n",
    "\n",
    "    # Measure time for optimalCode1\n",
    "    top2, bottom2 = time(lambda: optimalCode1(crimeCategories))\n",
    "    print(f\"({','.join(top)}...{','.join(bottom[::-1])})\")\n",
    "\n",
    "    # Read commited crimes data\n",
    "    commitedCrimes = sc.textFile(\"SacramentocrimeJanuary2006.csv\")\n",
    "\n",
    "    # Measure time for unoptimalCode2\n",
    "    time(lambda: optimalCode2(crimeCategories, commitedCrimes))\n"
   ]
  },
  {
   "cell_type": "code",
   "execution_count": 21,
   "id": "a8cb2b6c-c76e-4fca-9e45-8ea798a72c6d",
   "metadata": {},
   "outputs": [
    {
     "data": {
      "text/plain": [
       "<bound method SparkContext.stop of <SparkContext master=local[1] appName=Test>>"
      ]
     },
     "execution_count": 21,
     "metadata": {},
     "output_type": "execute_result"
    }
   ],
   "source": [
    "sc"
   ]
  },
  {
   "cell_type": "code",
   "execution_count": null,
   "id": "d666522b-79a6-4d08-aff5-221a56d00cce",
   "metadata": {},
   "outputs": [],
   "source": []
  }
 ],
 "metadata": {
  "kernelspec": {
   "display_name": "Python 3 (ipykernel)",
   "language": "python",
   "name": "python3"
  },
  "language_info": {
   "codemirror_mode": {
    "name": "ipython",
    "version": 3
   },
   "file_extension": ".py",
   "mimetype": "text/x-python",
   "name": "python",
   "nbconvert_exporter": "python",
   "pygments_lexer": "ipython3",
   "version": "3.12.0"
  }
 },
 "nbformat": 4,
 "nbformat_minor": 5
}
