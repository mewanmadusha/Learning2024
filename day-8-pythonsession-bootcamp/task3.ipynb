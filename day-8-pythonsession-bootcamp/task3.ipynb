{
 "cells": [
  {
   "cell_type": "code",
   "execution_count": 1,
   "id": "fd6f124e-4578-4dba-b89e-175951444fa1",
   "metadata": {},
   "outputs": [
    {
     "name": "stdout",
     "output_type": "stream",
     "text": [
      "{'orange', 'apple', 'banana'}\n"
     ]
    }
   ],
   "source": [
    "fruits = {'apple', 'banana', 'orange'}\n",
    "\n",
    "print(fruits)"
   ]
  },
  {
   "cell_type": "code",
   "execution_count": 2,
   "id": "29fde379-c34f-4099-ace2-52f3ec37eec7",
   "metadata": {},
   "outputs": [],
   "source": [
    "fruits.add('pear')"
   ]
  },
  {
   "cell_type": "code",
   "execution_count": 3,
   "id": "0b9e63f5-f267-41e1-ab07-65c80e3ecfd7",
   "metadata": {},
   "outputs": [
    {
     "name": "stdout",
     "output_type": "stream",
     "text": [
      "{'orange', 'pear', 'apple', 'banana'}\n"
     ]
    }
   ],
   "source": [
    "print(fruits)"
   ]
  },
  {
   "cell_type": "code",
   "execution_count": 4,
   "id": "51b95c66-34fb-45e6-ac64-e559625a87b0",
   "metadata": {},
   "outputs": [
    {
     "name": "stdout",
     "output_type": "stream",
     "text": [
      "{'orange', 'pear', 'apple'}\n"
     ]
    }
   ],
   "source": [
    "fruits.remove('banana')\n",
    "\n",
    "print(fruits)"
   ]
  },
  {
   "cell_type": "code",
   "execution_count": 5,
   "id": "a2c24a04-49eb-4aaf-9848-19fe097cd4dc",
   "metadata": {},
   "outputs": [
    {
     "name": "stdout",
     "output_type": "stream",
     "text": [
      "Hello, mewan! Welcome!\n"
     ]
    }
   ],
   "source": [
    "def greet(name):\n",
    "    print(\"Hello, \" + name + \"! Welcome!\")\n",
    "\n",
    "greet(\"mewan\")"
   ]
  },
  {
   "cell_type": "code",
   "execution_count": 6,
   "id": "5e3a27a3-19ad-4baf-933a-a26e34aa6bb2",
   "metadata": {},
   "outputs": [
    {
     "name": "stdout",
     "output_type": "stream",
     "text": [
      "Area of the circle: 78.5\n"
     ]
    }
   ],
   "source": [
    "def calculate_area(radius):\n",
    "    return 3.14 * radius ** 2 \n",
    "\n",
    "area = calculate_area(5)\n",
    "print(\"Area of the circle:\", area)"
   ]
  },
  {
   "cell_type": "code",
   "execution_count": 7,
   "id": "bd37aada-e7a8-432c-bc43-172762860bb3",
   "metadata": {},
   "outputs": [
    {
     "name": "stdout",
     "output_type": "stream",
     "text": [
      "Result: 9\n"
     ]
    }
   ],
   "source": [
    "# Define a function named power with default exponent value 2\n",
    "def power(base, exponent=2):\n",
    "    return base ** exponent\n",
    "\n",
    "result = power(3)\n",
    "print(\"Result:\", result)"
   ]
  },
  {
   "cell_type": "code",
   "execution_count": 9,
   "id": "2811c86f-16c4-4d29-9438-5370bfc7f8f9",
   "metadata": {},
   "outputs": [
    {
     "name": "stdout",
     "output_type": "stream",
     "text": [
      "Result: 64\n"
     ]
    }
   ],
   "source": [
    "def power(base, exponent=2):\n",
    "    return base ** exponent\n",
    "\n",
    "result = power(4,3)\n",
    "print(\"Result:\", result)"
   ]
  },
  {
   "cell_type": "code",
   "execution_count": 15,
   "id": "8bd03159-2e9c-4048-87eb-5f7069839bcf",
   "metadata": {},
   "outputs": [
    {
     "name": "stdout",
     "output_type": "stream",
     "text": [
      "Counter: 3\n"
     ]
    }
   ],
   "source": [
    "counter = 0\n",
    "\n",
    "def increment():\n",
    "    global counter\n",
    "    counter += 1\n",
    "\n",
    "increment()\n",
    "increment()\n",
    "increment()\n",
    "\n",
    "print(\"Counter:\", counter)"
   ]
  },
  {
   "cell_type": "code",
   "execution_count": 13,
   "id": "d8a77343-e20a-49a8-9ae1-0e6f14b82bc3",
   "metadata": {},
   "outputs": [],
   "source": [
    "increment()"
   ]
  },
  {
   "cell_type": "code",
   "execution_count": 14,
   "id": "8c391e15-80b5-4d41-8d0b-20b2f8fb828e",
   "metadata": {},
   "outputs": [
    {
     "name": "stdout",
     "output_type": "stream",
     "text": [
      "even? False\n"
     ]
    }
   ],
   "source": [
    "def is_even(number):\n",
    "    return number % 2 == 0\n",
    "\n",
    "print(\"even?\", is_even(7))"
   ]
  },
  {
   "cell_type": "code",
   "execution_count": 16,
   "id": "23d97248-f692-4459-b663-de3d346f690d",
   "metadata": {},
   "outputs": [
    {
     "name": "stdout",
     "output_type": "stream",
     "text": [
      "2\n",
      "4\n",
      "6\n",
      "8\n",
      "10\n"
     ]
    }
   ],
   "source": [
    "for num in range(2, 11, 2):\n",
    "    print(num)"
   ]
  },
  {
   "cell_type": "code",
   "execution_count": 17,
   "id": "e2f461c3-07ba-488e-88d9-58ec5fc84b60",
   "metadata": {},
   "outputs": [
    {
     "name": "stdout",
     "output_type": "stream",
     "text": [
      "2\n",
      "4\n",
      "6\n",
      "8\n",
      "10\n"
     ]
    }
   ],
   "source": [
    "even_numbers = [2, 4, 6, 8, 10]\n",
    "\n",
    "for num in even_numbers:\n",
    "    print(num)"
   ]
  },
  {
   "cell_type": "code",
   "execution_count": 19,
   "id": "05f8e05c-740b-4d74-8c37-970bf81fdbae",
   "metadata": {},
   "outputs": [
    {
     "name": "stdout",
     "output_type": "stream",
     "text": [
      "1\t2\t3\t4\t5\t\n",
      "2\t4\t6\t8\t10\t\n",
      "3\t6\t9\t12\t15\t\n",
      "4\t8\t12\t16\t20\t\n",
      "5\t10\t15\t20\t25\t\n"
     ]
    }
   ],
   "source": [
    "for i in range(1, 6):\n",
    "    for j in range(1, 6):\n",
    "        print(i * j, end='\\t')\n",
    "    print()  # Move to the next line for the next row"
   ]
  },
  {
   "cell_type": "code",
   "execution_count": 20,
   "id": "fcb222e6-75ce-4090-8eb0-403cd8c8d583",
   "metadata": {},
   "outputs": [
    {
     "name": "stdout",
     "output_type": "stream",
     "text": [
      "1\n",
      "4\n",
      "9\n"
     ]
    }
   ],
   "source": [
    "num = 1\n",
    "while num <= 3:\n",
    "    print(num ** 2)\n",
    "    num += 1"
   ]
  },
  {
   "cell_type": "code",
   "execution_count": 21,
   "id": "c739f942-4def-4a53-82b6-3f72c67394e4",
   "metadata": {},
   "outputs": [
    {
     "name": "stdout",
     "output_type": "stream",
     "text": [
      "1\n",
      "2\n",
      "3\n",
      "4\n"
     ]
    }
   ],
   "source": [
    "for num in range(1, 11):\n",
    "    if num == 5:\n",
    "        break\n",
    "    print(num)"
   ]
  },
  {
   "cell_type": "code",
   "execution_count": 22,
   "id": "ae25f70d-e766-4432-9470-008d9be8d9da",
   "metadata": {},
   "outputs": [
    {
     "name": "stdout",
     "output_type": "stream",
     "text": [
      "2 is Prime\n",
      "3 is Prime\n",
      "4 is Not Prime\n",
      "5 is Prime\n",
      "6 is Not Prime\n",
      "7 is Prime\n",
      "8 is Not Prime\n",
      "9 is Not Prime\n",
      "10 is Not Prime\n",
      "11 is Prime\n",
      "12 is Not Prime\n"
     ]
    }
   ],
   "source": [
    "def is_prime(number):\n",
    "    if number < 2:\n",
    "        return False\n",
    "    for i in range(2, int(number**0.5) + 1):\n",
    "        if number % i == 0:\n",
    "            return False\n",
    "    return True\n",
    "\n",
    "given_number = 13\n",
    "\n",
    "for num in range(2, given_number):\n",
    "    if is_prime(num):\n",
    "        print(f\"{num} is Prime\")\n",
    "    else:\n",
    "        print(f\"{num} is Not Prime\")"
   ]
  },
  {
   "cell_type": "code",
   "execution_count": 23,
   "id": "dff0c7b1-3013-4f99-a178-9996a30a6bff",
   "metadata": {},
   "outputs": [
    {
     "name": "stdout",
     "output_type": "stream",
     "text": [
      "red\n",
      "green\n",
      "blue\n",
      "yellow\n",
      "orange\n"
     ]
    }
   ],
   "source": [
    "colors = ['red', 'green', 'blue', 'yellow', 'orange']\n",
    "\n",
    "for color in colors:\n",
    "    print(color)"
   ]
  },
  {
   "cell_type": "code",
   "execution_count": null,
   "id": "1ab6bedb-e022-4a49-82b5-a9dc48cee281",
   "metadata": {},
   "outputs": [],
   "source": []
  }
 ],
 "metadata": {
  "kernelspec": {
   "display_name": "Python 3 (ipykernel)",
   "language": "python",
   "name": "python3"
  },
  "language_info": {
   "codemirror_mode": {
    "name": "ipython",
    "version": 3
   },
   "file_extension": ".py",
   "mimetype": "text/x-python",
   "name": "python",
   "nbconvert_exporter": "python",
   "pygments_lexer": "ipython3",
   "version": "3.10.9"
  }
 },
 "nbformat": 4,
 "nbformat_minor": 5
}
