{
 "cells": [
  {
   "cell_type": "code",
   "execution_count": null,
   "metadata": {},
   "outputs": [],
   "source": [
    "# 2.1\n",
    "\n",
    "def find_average_score(grades):\n",
    "    return sum(grades.values()) / len(grades)\n",
    "\n",
    "student_grades = {'Math': 85, 'English': 90, 'Science': 78, 'History': 92}\n",
    "\n",
    "avg_score = find_average_score(student_grades)\n",
    "print(\"Average score:\", avg_score)\n",
    "\n",
    "# 2.2\n",
    "\n",
    "def merge_dictionaries(dict1, dict2):\n",
    "    merged_dict = {**dict1, **dict2}\n",
    "    return merged_dict\n",
    "\n",
    "# Example usage:\n",
    "dict1 = {'a': 'pothumulla', 'b': 'kankanamge'}\n",
    "dict2 = {'b': 'mewan', 'c': 'madusha'}\n",
    "merged_dict = merge_dictionaries(dict1, dict2)\n",
    "# merged_dict = merge_dictionaries(dict2, dict1)\n",
    "print(\"Merged dictionary:\", merged_dict)\n",
    "\n",
    "# 2.3\n",
    "\n",
    "def top_n_keys(dictionary, n):\n",
    "    sorted_keys = sorted(dictionary, key=dictionary.get, reverse=True)\n",
    "    return sorted_keys[:n]\n",
    "\n",
    "n=2\n",
    "grades = {'Math': 85, 'English': 90, 'Science': 78, 'History': 92}\n",
    "top_keys = top_n_keys(grades, n)\n",
    "print(f\"Top {n} keys with highest values: {top_keys}\")\n",
    "\n",
    "# 2.4\n",
    "def sort_dict_by_values(dictionary):\n",
    "    sorted_dict = dict(sorted(dictionary.items(), key=lambda item: item[1]))\n",
    "    return sorted_dict\n",
    "\n",
    "\n",
    "unsorted_dict = {'b': 3, 'a': 1, 'c': 4}\n",
    "sorted_dict = sort_dict_by_values(unsorted_dict)\n",
    "print(\"Sorted dictionary by values:\", sorted_dict)"
   ]
  }
 ],
 "metadata": {
  "language_info": {
   "name": "python"
  }
 },
 "nbformat": 4,
 "nbformat_minor": 2
}
