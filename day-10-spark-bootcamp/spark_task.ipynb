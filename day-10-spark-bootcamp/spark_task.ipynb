{
 "cells": [
  {
   "cell_type": "code",
   "execution_count": 1,
   "id": "17e6508e-6927-433a-b946-29d7be29d5fa",
   "metadata": {},
   "outputs": [],
   "source": [
    "from pyspark.sql import SparkSession"
   ]
  },
  {
   "cell_type": "code",
   "execution_count": 2,
   "id": "65abef01-cb41-4120-b4d8-d65003d1ce1e",
   "metadata": {},
   "outputs": [
    {
     "name": "stderr",
     "output_type": "stream",
     "text": [
      "24/01/19 13:00:00 WARN Utils: Your hostname, Mewans-MacBook-Air-M1.local resolves to a loopback address: 127.0.0.1; using 192.168.201.38 instead (on interface en0)\n",
      "24/01/19 13:00:00 WARN Utils: Set SPARK_LOCAL_IP if you need to bind to another address\n",
      "Setting default log level to \"WARN\".\n",
      "To adjust logging level use sc.setLogLevel(newLevel). For SparkR, use setLogLevel(newLevel).\n",
      "24/01/19 13:00:00 WARN NativeCodeLoader: Unable to load native-hadoop library for your platform... using builtin-java classes where applicable\n"
     ]
    }
   ],
   "source": [
    "spark = SparkSession.builder.appName(\"WordCount\").getOrCreate()"
   ]
  },
  {
   "cell_type": "code",
   "execution_count": 3,
   "id": "b3abfe9c-4951-4223-b44c-6b052350ff72",
   "metadata": {},
   "outputs": [],
   "source": [
    "file_path = \"/Users/mewanmadusha/sample.txt\"\n",
    "data = spark.read.text(file_path)"
   ]
  },
  {
   "cell_type": "code",
   "execution_count": 5,
   "id": "a4b91d03-b02c-407d-8a5a-f718354fe76e",
   "metadata": {},
   "outputs": [
    {
     "name": "stdout",
     "output_type": "stream",
     "text": [
      "+--------------------+\n",
      "|               value|\n",
      "+--------------------+\n",
      "|The quick brown f...|\n",
      "|He wondered why t...|\n",
      "|He should have be...|\n",
      "|The park was full...|\n",
      "|He stopped to pet...|\n",
      "|As he walked, he ...|\n",
      "|He felt grateful ...|\n",
      "|Eventually, he fo...|\n",
      "|He sat on a bench...|\n",
      "|It was a peaceful...|\n",
      "|He realized that ...|\n",
      "+--------------------+\n",
      "\n"
     ]
    }
   ],
   "source": [
    "data.show()"
   ]
  },
  {
   "cell_type": "code",
   "execution_count": 6,
   "id": "b70f1869-e275-4965-b9af-47ae21d3fd9b",
   "metadata": {},
   "outputs": [],
   "source": [
    "from pyspark.sql.functions import split, explode"
   ]
  },
  {
   "cell_type": "code",
   "execution_count": 7,
   "id": "4ba43538-3541-4d16-a833-fc94ea9bca47",
   "metadata": {},
   "outputs": [],
   "source": [
    "words = data.select(explode(split(data.value, \" \")).alias(\"word\"))"
   ]
  },
  {
   "cell_type": "code",
   "execution_count": 8,
   "id": "245ca4f7-c90a-471b-a959-d46a0590a125",
   "metadata": {},
   "outputs": [],
   "source": [
    "word_count = words.groupBy(\"word\").count()"
   ]
  },
  {
   "cell_type": "code",
   "execution_count": 12,
   "id": "7fc23332-f9ef-4660-98de-5ca6b7d57652",
   "metadata": {},
   "outputs": [
    {
     "data": {
      "text/plain": [
       "163"
      ]
     },
     "execution_count": 12,
     "metadata": {},
     "output_type": "execute_result"
    }
   ],
   "source": [
    "words.count()"
   ]
  },
  {
   "cell_type": "code",
   "execution_count": 18,
   "id": "536597b5-83a3-4c41-b51e-82515a7ef78a",
   "metadata": {},
   "outputs": [
    {
     "name": "stdout",
     "output_type": "stream",
     "text": [
      "+-----------+-----+\n",
      "|       word|count|\n",
      "+-----------+-----+\n",
      "|     trees.|    1|\n",
      "|    flowers|    1|\n",
      "|      bench|    1|\n",
      "|   Instead,|    1|\n",
      "|       even|    1|\n",
      "|       lazy|    2|\n",
      "|   grateful|    1|\n",
      "|     fluffy|    1|\n",
      "|  continued|    1|\n",
      "|      park,|    1|\n",
      "|   colorful|    1|\n",
      "|        was|    5|\n",
      "|       park|    1|\n",
      "|     jumped|    1|\n",
      "|       it's|    1|\n",
      "|      bring|    1|\n",
      "|        dog|    2|\n",
      "|       way.|    1|\n",
      "|   enjoying|    1|\n",
      "|       day.|    1|\n",
      "|     place.|    1|\n",
      "|         in|    4|\n",
      "|   peaceful|    1|\n",
      "|    admired|    1|\n",
      "|       take|    1|\n",
      "|    himself|    1|\n",
      "|     water.|    1|\n",
      "|         As|    1|\n",
      "|   realized|    2|\n",
      "|    napping|    1|\n",
      "|   located.|    1|\n",
      "|      geese|    1|\n",
      "|     should|    1|\n",
      "|       such|    1|\n",
      "| sometimes,|    1|\n",
      "|       too.|    1|\n",
      "|       felt|    2|\n",
      "|      white|    1|\n",
      "|       life|    1|\n",
      "|         on|    2|\n",
      "|        but|    1|\n",
      "|        fox|    1|\n",
      "|     people|    1|\n",
      "|      ducks|    1|\n",
      "|        sat|    1|\n",
      "|       live|    1|\n",
      "|         it|    1|\n",
      "|       full|    1|\n",
      "|   wondered|    1|\n",
      "|       have|    1|\n",
      "|    poodle,|    1|\n",
      "|         It|    1|\n",
      "|     things|    1|\n",
      "|         He|    6|\n",
      "|   content.|    1|\n",
      "|      move.|    1|\n",
      "|        the|   14|\n",
      "|      sunny|    1|\n",
      "|       pond|    1|\n",
      "|       tall|    1|\n",
      "|       edge|    1|\n",
      "|       joy.|    1|\n",
      "|       dog.|    1|\n",
      "|      lazy,|    1|\n",
      "|        pet|    1|\n",
      "|        and|    6|\n",
      "|    decided|    1|\n",
      "|       been|    1|\n",
      "|      where|    1|\n",
      "|     middle|    1|\n",
      "|       walk|    1|\n",
      "|Eventually,|    1|\n",
      "|      small|    1|\n",
      "|         of|    3|\n",
      "|        The|    3|\n",
      "|     didn't|    1|\n",
      "|      brown|    1|\n",
      "|       over|    1|\n",
      "|      quick|    1|\n",
      "|      found|    1|\n",
      "|         at|    1|\n",
      "|       that|    2|\n",
      "|         so|    1|\n",
      "|        all|    1|\n",
      "|          a|    6|\n",
      "|    moment,|    1|\n",
      "|       most|    1|\n",
      "|      dogs,|    1|\n",
      "|           |    9|\n",
      "|    walked,|    1|\n",
      "|        why|    1|\n",
      "|      park.|    1|\n",
      "|   swimming|    1|\n",
      "|   weather.|    1|\n",
      "|        his|    1|\n",
      "|     simple|    1|\n",
      "|       then|    2|\n",
      "|         to|    3|\n",
      "|    watched|    1|\n",
      "|         he|    6|\n",
      "+-----------+-----+\n",
      "only showing top 100 rows\n",
      "\n"
     ]
    }
   ],
   "source": [
    "word_count.show(100)"
   ]
  },
  {
   "cell_type": "code",
   "execution_count": 17,
   "id": "cfadc6cd-9785-4425-a9d3-79470864e07a",
   "metadata": {},
   "outputs": [
    {
     "ename": "AttributeError",
     "evalue": "'DataFrame' object has no attribute 'to_string'",
     "output_type": "error",
     "traceback": [
      "\u001b[0;31m---------------------------------------------------------------------------\u001b[0m",
      "\u001b[0;31mAttributeError\u001b[0m                            Traceback (most recent call last)",
      "Cell \u001b[0;32mIn[17], line 1\u001b[0m\n\u001b[0;32m----> 1\u001b[0m \u001b[38;5;28mprint\u001b[39m(\u001b[43mword_count\u001b[49m\u001b[38;5;241;43m.\u001b[39;49m\u001b[43mto_string\u001b[49m())\n",
      "File \u001b[0;32m~/miniconda3/envs/sparkenv/lib/python3.12/site-packages/pyspark/sql/dataframe.py:3123\u001b[0m, in \u001b[0;36mDataFrame.__getattr__\u001b[0;34m(self, name)\u001b[0m\n\u001b[1;32m   3090\u001b[0m \u001b[38;5;250m\u001b[39m\u001b[38;5;124;03m\"\"\"Returns the :class:`Column` denoted by ``name``.\u001b[39;00m\n\u001b[1;32m   3091\u001b[0m \n\u001b[1;32m   3092\u001b[0m \u001b[38;5;124;03m.. versionadded:: 1.3.0\u001b[39;00m\n\u001b[0;32m   (...)\u001b[0m\n\u001b[1;32m   3120\u001b[0m \u001b[38;5;124;03m+---+\u001b[39;00m\n\u001b[1;32m   3121\u001b[0m \u001b[38;5;124;03m\"\"\"\u001b[39;00m\n\u001b[1;32m   3122\u001b[0m \u001b[38;5;28;01mif\u001b[39;00m name \u001b[38;5;129;01mnot\u001b[39;00m \u001b[38;5;129;01min\u001b[39;00m \u001b[38;5;28mself\u001b[39m\u001b[38;5;241m.\u001b[39mcolumns:\n\u001b[0;32m-> 3123\u001b[0m     \u001b[38;5;28;01mraise\u001b[39;00m \u001b[38;5;167;01mAttributeError\u001b[39;00m(\n\u001b[1;32m   3124\u001b[0m         \u001b[38;5;124m\"\u001b[39m\u001b[38;5;124m'\u001b[39m\u001b[38;5;132;01m%s\u001b[39;00m\u001b[38;5;124m'\u001b[39m\u001b[38;5;124m object has no attribute \u001b[39m\u001b[38;5;124m'\u001b[39m\u001b[38;5;132;01m%s\u001b[39;00m\u001b[38;5;124m'\u001b[39m\u001b[38;5;124m\"\u001b[39m \u001b[38;5;241m%\u001b[39m (\u001b[38;5;28mself\u001b[39m\u001b[38;5;241m.\u001b[39m\u001b[38;5;18m__class__\u001b[39m\u001b[38;5;241m.\u001b[39m\u001b[38;5;18m__name__\u001b[39m, name)\n\u001b[1;32m   3125\u001b[0m     )\n\u001b[1;32m   3126\u001b[0m jc \u001b[38;5;241m=\u001b[39m \u001b[38;5;28mself\u001b[39m\u001b[38;5;241m.\u001b[39m_jdf\u001b[38;5;241m.\u001b[39mapply(name)\n\u001b[1;32m   3127\u001b[0m \u001b[38;5;28;01mreturn\u001b[39;00m Column(jc)\n",
      "\u001b[0;31mAttributeError\u001b[0m: 'DataFrame' object has no attribute 'to_string'"
     ]
    }
   ],
   "source": [
    "print(word_count.to_string())"
   ]
  },
  {
   "cell_type": "code",
   "execution_count": null,
   "id": "21cf4fc3-3ab4-4b75-aa7e-32775753a7a1",
   "metadata": {},
   "outputs": [],
   "source": []
  }
 ],
 "metadata": {
  "kernelspec": {
   "display_name": "Python 3 (ipykernel)",
   "language": "python",
   "name": "python3"
  },
  "language_info": {
   "codemirror_mode": {
    "name": "ipython",
    "version": 3
   },
   "file_extension": ".py",
   "mimetype": "text/x-python",
   "name": "python",
   "nbconvert_exporter": "python",
   "pygments_lexer": "ipython3",
   "version": "3.12.0"
  }
 },
 "nbformat": 4,
 "nbformat_minor": 5
}
