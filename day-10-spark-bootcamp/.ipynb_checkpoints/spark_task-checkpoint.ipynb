{
 "cells": [
  {
   "cell_type": "code",
   "execution_count": 2,
   "id": "17e6508e-6927-433a-b946-29d7be29d5fa",
   "metadata": {},
   "outputs": [],
   "source": [
    "from pyspark.sql import SparkSession"
   ]
  },
  {
   "cell_type": "code",
   "execution_count": 3,
   "id": "65abef01-cb41-4120-b4d8-d65003d1ce1e",
   "metadata": {},
   "outputs": [
    {
     "name": "stderr",
     "output_type": "stream",
     "text": [
      "24/01/19 14:36:33 WARN Utils: Your hostname, Mewans-MacBook-Air-M1.local resolves to a loopback address: 127.0.0.1; using 192.168.201.38 instead (on interface en0)\n",
      "24/01/19 14:36:33 WARN Utils: Set SPARK_LOCAL_IP if you need to bind to another address\n",
      "Setting default log level to \"WARN\".\n",
      "To adjust logging level use sc.setLogLevel(newLevel). For SparkR, use setLogLevel(newLevel).\n",
      "24/01/19 14:36:33 WARN NativeCodeLoader: Unable to load native-hadoop library for your platform... using builtin-java classes where applicable\n",
      "24/01/19 14:36:33 WARN Utils: Service 'SparkUI' could not bind on port 4040. Attempting port 4041.\n"
     ]
    }
   ],
   "source": [
    "spark = SparkSession.builder.appName(\"WordCount\").getOrCreate()"
   ]
  },
  {
   "cell_type": "code",
   "execution_count": 69,
   "id": "b3abfe9c-4951-4223-b44c-6b052350ff72",
   "metadata": {},
   "outputs": [],
   "source": [
    "file_path = \"/Users/mewanmadusha/sample.txt\"\n",
    "data = spark.read.text(file_path)"
   ]
  },
  {
   "cell_type": "code",
   "execution_count": 70,
   "id": "a4b91d03-b02c-407d-8a5a-f718354fe76e",
   "metadata": {},
   "outputs": [
    {
     "name": "stdout",
     "output_type": "stream",
     "text": [
      "+--------------------+\n",
      "|               value|\n",
      "+--------------------+\n",
      "|The quick brown f...|\n",
      "|He wondered why t...|\n",
      "|He should have be...|\n",
      "|The park was full...|\n",
      "|He stopped to pet...|\n",
      "|As he walked, he ...|\n",
      "|He felt grateful ...|\n",
      "|Eventually, he fo...|\n",
      "|He sat on a bench...|\n",
      "|It was a peaceful...|\n",
      "|He realized that ...|\n",
      "+--------------------+\n",
      "\n"
     ]
    }
   ],
   "source": [
    "data.show()"
   ]
  },
  {
   "cell_type": "code",
   "execution_count": 80,
   "id": "b70f1869-e275-4965-b9af-47ae21d3fd9b",
   "metadata": {},
   "outputs": [],
   "source": [
    "from pyspark.sql.functions import split, explode, regexp_replace, trim"
   ]
  },
  {
   "cell_type": "code",
   "execution_count": 90,
   "id": "4ba43538-3541-4d16-a833-fc94ea9bca47",
   "metadata": {},
   "outputs": [],
   "source": [
    "words = data.select(explode(split(regexp_replace(data.value, ', ',''), \" \")).alias(\"word\")) "
   ]
  },
  {
   "cell_type": "code",
   "execution_count": 91,
   "id": "245ca4f7-c90a-471b-a959-d46a0590a125",
   "metadata": {},
   "outputs": [],
   "source": [
    "word_count = words.groupBy(\"word\").count()"
   ]
  },
  {
   "cell_type": "code",
   "execution_count": 92,
   "id": "e076435c-34f5-4ab9-8666-24b144a39b1d",
   "metadata": {},
   "outputs": [
    {
     "data": {
      "text/plain": [
       "154"
      ]
     },
     "execution_count": 92,
     "metadata": {},
     "output_type": "execute_result"
    }
   ],
   "source": [
    "words.count()"
   ]
  },
  {
   "cell_type": "code",
   "execution_count": 93,
   "id": "536597b5-83a3-4c41-b51e-82515a7ef78a",
   "metadata": {},
   "outputs": [
    {
     "name": "stdout",
     "output_type": "stream",
     "text": [
      "+---------+-----+\n",
      "|     word|count|\n",
      "+---------+-----+\n",
      "|   trees.|    1|\n",
      "|  flowers|    1|\n",
      "|    bench|    1|\n",
      "|     even|    1|\n",
      "|     lazy|    2|\n",
      "| grateful|    1|\n",
      "|   fluffy|    1|\n",
      "|continued|    1|\n",
      "| colorful|    1|\n",
      "|      was|    5|\n",
      "|     park|    1|\n",
      "|   jumped|    1|\n",
      "|    bring|    1|\n",
      "|      dog|    2|\n",
      "|     way.|    1|\n",
      "| enjoying|    1|\n",
      "|     day.|    1|\n",
      "|   place.|    1|\n",
      "|  lazybut|    1|\n",
      "|       in|    4|\n",
      "+---------+-----+\n",
      "only showing top 20 rows\n",
      "\n"
     ]
    }
   ],
   "source": [
    "word_count.show()"
   ]
  },
  {
   "cell_type": "code",
   "execution_count": null,
   "id": "94ee3563-818e-4b39-9afe-073837253e3d",
   "metadata": {},
   "outputs": [],
   "source": []
  }
 ],
 "metadata": {
  "kernelspec": {
   "display_name": "Python 3 (ipykernel)",
   "language": "python",
   "name": "python3"
  },
  "language_info": {
   "codemirror_mode": {
    "name": "ipython",
    "version": 3
   },
   "file_extension": ".py",
   "mimetype": "text/x-python",
   "name": "python",
   "nbconvert_exporter": "python",
   "pygments_lexer": "ipython3",
   "version": "3.12.0"
  }
 },
 "nbformat": 4,
 "nbformat_minor": 5
}
