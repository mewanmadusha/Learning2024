{
 "cells": [
  {
   "cell_type": "markdown",
   "metadata": {
    "deletable": false,
    "editable": false
   },
   "source": [
    "\n",
    "# Glue Studio Notebook\n",
    "You are now running a **Glue Studio** notebook; before you can start using your notebook you *must* start an interactive session.\n",
    "\n",
    "## Available Magics\n",
    "|          Magic              |   Type       |                                                                        Description                                                                        |\n",
    "|-----------------------------|--------------|-----------------------------------------------------------------------------------------------------------------------------------------------------------|\n",
    "| %%configure                 |  Dictionary  |  A json-formatted dictionary consisting of all configuration parameters for a session. Each parameter can be specified here or through individual magics. |\n",
    "| %profile                    |  String      |  Specify a profile in your aws configuration to use as the credentials provider.                                                                          |\n",
    "| %iam_role                   |  String      |  Specify an IAM role to execute your session with.                                                                                                        |\n",
    "| %region                     |  String      |  Specify the AWS region in which to initialize a session                                                                                                  |\n",
    "| %session_id                 |  String      |  Returns the session ID for the running session.                                                                                                          |\n",
    "| %connections                |  List        |  Specify a comma separated list of connections to use in the session.                                                                                     |\n",
    "| %additional_python_modules  |  List        |  Comma separated list of pip packages, s3 paths or private pip arguments.                                                                                 |\n",
    "| %extra_py_files             |  List        |  Comma separated list of additional Python files from S3.                                                                                                 |\n",
    "| %extra_jars                 |  List        |  Comma separated list of additional Jars to include in the cluster.                                                                                       |\n",
    "| %number_of_workers          |  Integer     |  The number of workers of a defined worker_type that are allocated when a job runs. worker_type must be set too.                                          |\n",
    "| %worker_type                |  String      |  Standard, G.1X, *or* G.2X. number_of_workers must be set too. Default is G.1X                                                                            |\n",
    "| %glue_version               |  String      |  The version of Glue to be used by this session. Currently, the only valid options are 2.0 and 3.0                                                        |\n",
    "| %security_configuration     |  String      |  Define a security configuration to be used with this session.                                                                                            |\n",
    "| %sql                        |  String      |  Run SQL code. All lines after the initial %%sql magic will be passed as part of the SQL code.                                                            |\n",
    "| %streaming                  |  String      |  Changes the session type to Glue Streaming.                                                                                                              |\n",
    "| %etl                        |  String      |   Changes the session type to Glue ETL.                                                                                                                   |\n",
    "| %status                     |              |  Returns the status of the current Glue session including its duration, configuration and executing user / role.                                          |\n",
    "| %stop_session               |              |  Stops the current session.                                                                                                                               |\n",
    "| %list_sessions              |              |  Lists all currently running sessions by name and ID.                                                                                                     |"
   ]
  },
  {
   "cell_type": "code",
   "execution_count": null,
   "metadata": {
    "editable": true
   },
   "outputs": [
    {
     "name": "stdout",
     "output_type": "stream",
     "text": [
      "Welcome to the Glue Interactive Sessions Kernel\n",
      "For more information on available magic commands, please type %help in any new cell.\n",
      "\n",
      "Please view our Getting Started page to access the most up-to-date information on the Interactive Sessions kernel: https://docs.aws.amazon.com/glue/latest/dg/interactive-sessions.html\n",
      "It looks like there is a newer version of the kernel available. The latest version is 0.31 and you have 0.30 installed.\n",
      "Please run `pip install --upgrade aws-glue-sessions` to upgrade your kernel\n",
      "Previous number of workers: 5\n",
      "Setting new number of workers to: 2\n",
      "Authenticating with environment variables and user-defined glue_role_arn: arn:aws:iam::687494451982:role/Bootcamp-Glue-Notebook\n",
      "Attempting to use existing AssumeRole session credentials.\n",
      "Trying to create a Glue session for the kernel.\n",
      "Worker Type: G.1X\n",
      "Number of Workers: 2\n",
      "Session ID: 8b7ff77e-b641-4dce-85e3-009e714587b3\n",
      "Applying the following default arguments:\n",
      "--glue_kernel_version 0.30\n",
      "--enable-glue-datacatalog true\n",
      "Waiting for session 8b7ff77e-b641-4dce-85e3-009e714587b3 to get into ready status...\n",
      "Session 8b7ff77e-b641-4dce-85e3-009e714587b3 has been created\n",
      "\n",
      "\n"
     ]
    }
   ],
   "source": [
    "%number_of_workers 2\n",
    "\n",
    "import sys\n",
    "from awsglue.transforms import *\n",
    "from awsglue.utils import getResolvedOptions\n",
    "from pyspark.context import SparkContext\n",
    "from awsglue.context import GlueContext\n",
    "from awsglue.job import Job\n",
    "from pyspark.sql.functions import *\n",
    "  \n",
    "sc = SparkContext.getOrCreate()\n",
    "glueContext = GlueContext(sc)\n",
    "spark = glueContext.spark_session\n",
    "job = Job(glueContext)"
   ]
  },
  {
   "cell_type": "code",
   "execution_count": 2,
   "metadata": {},
   "outputs": [
    {
     "name": "stdout",
     "output_type": "stream",
     "text": [
      "\n"
     ]
    }
   ],
   "source": [
    "#Crime catalog\n",
    "crimeCatalog = glueContext.create_dynamic_frame_from_options(\n",
    "    connection_type=\"s3\",\n",
    "    format=\"csv\",\n",
    "    connection_options={\n",
    "        \"paths\": [\"s3://big-data-bootcamp-2022/week2/day4/resources/SacramentocrimeJanuary2006.csv\"]\n",
    "    },\n",
    "    format_options={\n",
    "        \"withHeader\": True,\n",
    "        \"separator\": \",\"\n",
    "    }).toDF()\n",
    "\n",
    "# Crime clarification\n",
    "crimeClarification = glueContext.create_dynamic_frame_from_options(\n",
    "    connection_type=\"s3\",\n",
    "    format=\"csv\",\n",
    "    connection_options={\n",
    "        \"paths\": [\"s3://big-data-bootcamp-2022/week2/day4/resources/ucr_ncic_codes.tsv\"]\n",
    "    },\n",
    "    format_options={\n",
    "        \"withHeader\": True,\n",
    "        \"separator\": \"\\t\"\n",
    "    }).toDF()"
   ]
  },
  {
   "cell_type": "markdown",
   "metadata": {
    "tags": []
   },
   "source": [
    "### Write your solution under each cell using input DataFrames - crimeCatalog and crimeClarification.\n",
    "### For each task a code snippet needs to be written to achieve the task given. You can also add comments from your side if you need to."
   ]
  },
  {
   "cell_type": "code",
   "execution_count": 1,
   "metadata": {},
   "outputs": [],
   "source": [
    "from pyspark.sql import SparkSession"
   ]
  },
  {
   "cell_type": "code",
   "execution_count": 3,
   "metadata": {},
   "outputs": [
    {
     "name": "stderr",
     "output_type": "stream",
     "text": [
      "24/01/22 17:53:37 WARN Utils: Your hostname, Mewans-MacBook-Air-M1.local resolves to a loopback address: 127.0.0.1; using 192.168.201.38 instead (on interface en0)\n",
      "24/01/22 17:53:37 WARN Utils: Set SPARK_LOCAL_IP if you need to bind to another address\n",
      "Setting default log level to \"WARN\".\n",
      "To adjust logging level use sc.setLogLevel(newLevel). For SparkR, use setLogLevel(newLevel).\n",
      "24/01/22 17:53:38 WARN NativeCodeLoader: Unable to load native-hadoop library for your platform... using builtin-java classes where applicable\n"
     ]
    }
   ],
   "source": [
    "spark = SparkSession.builder.appName(\"CrimeAnalyse\").getOrCreate()"
   ]
  },
  {
   "cell_type": "code",
   "execution_count": 4,
   "metadata": {},
   "outputs": [],
   "source": [
    "# Import data from SacramentocrimeJanuary2006.csv"
   ]
  },
  {
   "cell_type": "code",
   "execution_count": 5,
   "metadata": {},
   "outputs": [],
   "source": [
    "crimeCatalog = spark.read.csv(\"SacramentocrimeJanuary2006.csv\", header=True, inferSchema=True)"
   ]
  },
  {
   "cell_type": "code",
   "execution_count": 8,
   "metadata": {},
   "outputs": [
    {
     "name": "stdout",
     "output_type": "stream",
     "text": [
      "+-----------+-------------------+--------+----------+----+--------------------+-------------+-----------+------------+\n",
      "|  cdatetime|            address|district|      beat|grid|          crimedescr|ucr_ncic_code|   latitude|   longitude|\n",
      "+-----------+-------------------+--------+----------+----+--------------------+-------------+-----------+------------+\n",
      "|1/1/06 0:00| 3108 OCCIDENTAL DR|       3|3C        |1115|10851(A)VC TAKE V...|         2404|38.55042047|-121.3914158|\n",
      "|1/1/06 0:00|2082 EXPEDITION WAY|       5|5A        |1512|459 PC  BURGLARY ...|         2204|38.47350069|-121.4901858|\n",
      "|1/1/06 0:00|         4 PALEN CT|       2|2A        | 212|10851(A)VC TAKE V...|         2404|38.65784584|-121.4621009|\n",
      "|1/1/06 0:00|     22 BECKFORD CT|       6|6C        |1443|476 PC PASS FICTI...|         2501|38.50677377|-121.4269508|\n",
      "|1/1/06 0:00|   3421 AUBURN BLVD|       2|2A        | 508|459 PC  BURGLARY-...|         2299| 38.6374478|-121.3846125|\n",
      "+-----------+-------------------+--------+----------+----+--------------------+-------------+-----------+------------+\n",
      "only showing top 5 rows\n",
      "\n"
     ]
    }
   ],
   "source": [
    "crimeCatalog.show(5)"
   ]
  },
  {
   "cell_type": "code",
   "execution_count": null,
   "metadata": {},
   "outputs": [],
   "source": [
    "# Import data from ucr_ncic_codes.tsv"
   ]
  },
  {
   "cell_type": "code",
   "execution_count": 9,
   "metadata": {},
   "outputs": [],
   "source": [
    "crimeClarification = spark.read.option(\"delimiter\", \"\\t\").csv(\"ucr_ncic_codes.tsv\", header=True, inferSchema=True)"
   ]
  },
  {
   "cell_type": "code",
   "execution_count": 10,
   "metadata": {},
   "outputs": [
    {
     "name": "stdout",
     "output_type": "stream",
     "text": [
      "+----------+-------------------+--------------------+------------------+----------+------------------------------------+\n",
      "|Crime Code|Crime Category Code|NCIC Charge Category|      Crime Charge|Parameters|ICE Criminal Offense Level (Default)|\n",
      "+----------+-------------------+--------------------+------------------+----------+------------------------------------+\n",
      "|      0101|                SOV|         Sovereignty|           Treason|      NULL|                             Level 1|\n",
      "|      0102|                SOV|         Sovereignty|Treason Misprision|      NULL|                             Level 1|\n",
      "|      0103|                SOV|         Sovereignty|         Espionage|      NULL|                             Level 1|\n",
      "|      0104|                SOV|         Sovereignty|          Sabotage|      NULL|                             Level 1|\n",
      "|      0105|                SOV|         Sovereignty|          Sedition|      NULL|                             Level 1|\n",
      "+----------+-------------------+--------------------+------------------+----------+------------------------------------+\n",
      "only showing top 5 rows\n",
      "\n"
     ]
    }
   ],
   "source": [
    "crimeClarification.show(5)"
   ]
  },
  {
   "cell_type": "code",
   "execution_count": 11,
   "metadata": {},
   "outputs": [],
   "source": [
    "# Task 1. Print unique districts sorted by name (contents of a district column).\n",
    "unique_districts = crimeCatalog.select(\"district\").distinct().orderBy(\"district\")"
   ]
  },
  {
   "cell_type": "code",
   "execution_count": 12,
   "metadata": {},
   "outputs": [
    {
     "name": "stdout",
     "output_type": "stream",
     "text": [
      "+--------+\n",
      "|district|\n",
      "+--------+\n",
      "|       1|\n",
      "|       2|\n",
      "|       3|\n",
      "|       4|\n",
      "|       5|\n",
      "+--------+\n",
      "only showing top 5 rows\n",
      "\n"
     ]
    }
   ],
   "source": [
    "unique_districts.show(5)"
   ]
  },
  {
   "cell_type": "code",
   "execution_count": 15,
   "metadata": {},
   "outputs": [],
   "source": [
    "from pyspark.sql.functions import col"
   ]
  },
  {
   "cell_type": "code",
   "execution_count": 16,
   "metadata": {},
   "outputs": [
    {
     "name": "stdout",
     "output_type": "stream",
     "text": [
      "The district with the most crimes is: 3\n"
     ]
    }
   ],
   "source": [
    "# Task 2. In which district most crimes occurred?\n",
    "most_crime_occurred_district = crimeCatalog.groupBy(\"district\").count().orderBy(col(\"count\").desc()).first()[\"district\"]\n",
    "print(f\"The district with the most crimes is: {most_crime_occurred_district}\")"
   ]
  },
  {
   "cell_type": "code",
   "execution_count": null,
   "metadata": {},
   "outputs": [],
   "source": [
    "# Task 3. What is most dangerous time of day?\n",
    "#      * Morning 6:00-12:00\n",
    "#      * Day 12:00-18:00\n",
    "#      * Evening 18:00-00:00\n",
    "#      * Night 00:00-6:00\n",
    "#      * You might want to split cdatetime column into 2 different for this task by something\n"
   ]
  },
  {
   "cell_type": "code",
   "execution_count": 26,
   "metadata": {},
   "outputs": [],
   "source": [
    "# Importing necessary functions\n",
    "from pyspark.sql.functions import hour, when\n",
    "from pyspark.sql.types import StringType\n",
    "from pyspark.sql.functions import split"
   ]
  },
  {
   "cell_type": "code",
   "execution_count": 27,
   "metadata": {},
   "outputs": [],
   "source": [
    "# Split the cdatetime column and determine the most dangerous time of day\n",
    "# consider apace and split date as a first part and time as a second part\n",
    "dataSplited = crimeCatalog.withColumn(\"datetime_split\", split(crimeCatalog[\"cdatetime\"], \" \"))"
   ]
  },
  {
   "cell_type": "code",
   "execution_count": 31,
   "metadata": {},
   "outputs": [],
   "source": [
    "# use same variable and store data in two columns\n",
    "dataSplited = dataSplited.withColumn(\"date\", dataSplited[\"datetime_split\"][0])\n",
    "dataSplited = dataSplited.withColumn(\"time\", dataSplited[\"datetime_split\"][1])"
   ]
  },
  {
   "cell_type": "code",
   "execution_count": 34,
   "metadata": {},
   "outputs": [
    {
     "name": "stdout",
     "output_type": "stream",
     "text": [
      "+-----------+------------------+--------+----------+----+--------------------+-------------+-----------+------------+------+----+-----------+--------------+\n",
      "|  cdatetime|           address|district|      beat|grid|          crimedescr|ucr_ncic_code|   latitude|   longitude|  date|time|time_of_day|datetime_split|\n",
      "+-----------+------------------+--------+----------+----+--------------------+-------------+-----------+------------+------+----+-----------+--------------+\n",
      "|1/1/06 0:00|3108 OCCIDENTAL DR|       3|3C        |1115|10851(A)VC TAKE V...|         2404|38.55042047|-121.3914158|1/1/06|0:00|    Unknown|[1/1/06, 0:00]|\n",
      "+-----------+------------------+--------+----------+----+--------------------+-------------+-----------+------------+------+----+-----------+--------------+\n",
      "only showing top 1 row\n",
      "\n"
     ]
    }
   ],
   "source": [
    "# show dataSplited\n",
    "dataSplited.show(1)"
   ]
  },
  {
   "cell_type": "code",
   "execution_count": 35,
   "metadata": {},
   "outputs": [],
   "source": [
    "# Defining time categories\n",
    "time_categories = [\n",
    "    (hour(\"time\").between(6, 11), \"Morning\"),\n",
    "    (hour(\"time\").between(12, 17), \"Day\"),\n",
    "    (hour(\"time\").between(18, 23), \"Evening\"),\n",
    "    (hour(\"time\").between(0, 5), \"Night\")\n",
    "]"
   ]
  },
  {
   "cell_type": "code",
   "execution_count": 36,
   "metadata": {},
   "outputs": [],
   "source": [
    "# Using when and otherwise to categorize the time of day\n",
    "crimeCatalog = dataSplited.withColumn(\"time_of_day\", \n",
    "                                       when(time_categories[0][0], time_categories[0][1])\n",
    "                                       .when(time_categories[1][0], time_categories[1][1])\n",
    "                                       .when(time_categories[2][0], time_categories[2][1])\n",
    "                                       .when(time_categories[3][0], time_categories[3][1])\n",
    "                                       .otherwise(\"Unknown\"))"
   ]
  },
  {
   "cell_type": "code",
   "execution_count": 37,
   "metadata": {},
   "outputs": [
    {
     "name": "stdout",
     "output_type": "stream",
     "text": [
      "The most dangerous time of day is: Day\n"
     ]
    }
   ],
   "source": [
    "# Counting the occurrences for each time category\n",
    "most_dangerous_time = crimeCatalog.groupBy(\"time_of_day\").count().orderBy(col(\"count\").desc()).first()[\"time_of_day\"]\n",
    "print(f\"The most dangerous time of day is: {most_dangerous_time}\")"
   ]
  },
  {
   "cell_type": "code",
   "execution_count": 39,
   "metadata": {},
   "outputs": [],
   "source": [
    "from pyspark.sql.functions import count"
   ]
  },
  {
   "cell_type": "code",
   "execution_count": 40,
   "metadata": {},
   "outputs": [
    {
     "name": "stdout",
     "output_type": "stream",
     "text": [
      "+-------+------------+\n",
      "|   date|crimes_count|\n",
      "+-------+------------+\n",
      "|1/14/06|         207|\n",
      "|1/18/06|         295|\n",
      "|1/24/06|         277|\n",
      "|1/17/06|         282|\n",
      "| 1/3/06|         256|\n",
      "| 1/5/06|         268|\n",
      "|1/22/06|         204|\n",
      "|1/26/06|         254|\n",
      "|1/31/06|         245|\n",
      "|1/23/06|         241|\n",
      "| 1/8/06|         182|\n",
      "|1/11/06|         311|\n",
      "|1/30/06|         266|\n",
      "|1/25/06|         249|\n",
      "|1/12/06|         265|\n",
      "| 1/1/06|         250|\n",
      "|1/21/06|         213|\n",
      "|1/29/06|         182|\n",
      "|1/19/06|         266|\n",
      "|1/27/06|         279|\n",
      "+-------+------------+\n",
      "only showing top 20 rows\n",
      "\n"
     ]
    }
   ],
   "source": [
    "# Task 4. Count crimes per day.\n",
    "crimes_per_day = crimeCatalog.groupBy(\"date\").agg(count(\"date\").alias(\"crimes_count\"))\n",
    "crimes_per_day.show()"
   ]
  },
  {
   "cell_type": "code",
   "execution_count": 46,
   "metadata": {},
   "outputs": [
    {
     "name": "stdout",
     "output_type": "stream",
     "text": [
      "+-------+-------------+--------------------+------------+\n",
      "|   date|ucr_ncic_code|        Crime Charge|crimes_count|\n",
      "+-------+-------------+--------------------+------------+\n",
      "| 1/8/06|         2399|             Larceny|           9|\n",
      "|1/18/06|         1299|             Robbery|          10|\n",
      "|1/24/06|         3572|Amphetamine - Pos...|           2|\n",
      "|1/25/06|         2803|Receive Stolen Pr...|           1|\n",
      "|1/28/06|         5401|         Hit and Run|           7|\n",
      "| 1/1/06|         2299|            Burglary|          18|\n",
      "| 1/8/06|         5207|Incendiary Device...|           1|\n",
      "|1/10/06|         3699|        aSex Offense|           1|\n",
      "|1/23/06|         2404|       Vehicle Theft|          28|\n",
      "|1/24/06|         4803| Making False Report|           1|\n",
      "| 1/6/06|         3562| Marijuana - Possess|           1|\n",
      "|1/10/06|         2604|Fraud - Impersona...|           2|\n",
      "|1/10/06|         2501|   Forgery Of Checks|           2|\n",
      "|1/11/06|         5399|        Public Peace|           1|\n",
      "|1/17/06|         2310|Larceny - From Mails|           1|\n",
      "|1/28/06|         2302|Purse Snatching -...|           1|\n",
      "|1/29/06|         2203|Burglary - Forced...|           2|\n",
      "| 1/5/06|         5400|                NULL|          15|\n",
      "| 1/4/06|         3572|Amphetamine - Pos...|           1|\n",
      "|1/10/06|         2999|Damage Property -...|           5|\n",
      "+-------+-------------+--------------------+------------+\n",
      "only showing top 20 rows\n",
      "\n"
     ]
    }
   ],
   "source": [
    "# Task 5. Count crimes per day per Charge Category.\n",
    "# NOTE: Crime levels can be found in ucr_ncic_codes.tsv\n",
    "\n",
    "# Joining crimeCatalog with ucr_ncic_codes to get the Charge Category\n",
    "# left outer desides here because crimeCatalog act as a main document as assuming crimeClarification dosen't have all the data maching to \n",
    "# crimeCatalog, this is using to avoid conflicts\n",
    "joined_both = crimeCatalog.join(crimeClarification, crimeCatalog[\"ucr_ncic_code\"] == crimeClarification[\"Crime Code\"], \"left_outer\")\n",
    "\n",
    "# Grouping by date and Charge Category, then counting the occurrences\n",
    "crimes_per_day_per_category = joined_both.groupBy(\"date\", \"ucr_ncic_code\",\"Crime Charge\").agg(count(\"*\").alias(\"crimes_count\"))\n",
    "\n",
    "crimes_per_day_per_category.show()"
   ]
  },
  {
   "cell_type": "code",
   "execution_count": 53,
   "metadata": {},
   "outputs": [
    {
     "name": "stdout",
     "output_type": "stream",
     "text": [
      "+-------------------+------------+\n",
      "|Crime Category Code|crimes_count|\n",
      "+-------------------+------------+\n",
      "|               BURG|         971|\n",
      "|                 SV|         881|\n",
      "|               LARC|         706|\n",
      "|                 DP|         356|\n",
      "|               ASSL|         325|\n",
      "+-------------------+------------+\n",
      "\n"
     ]
    }
   ],
   "source": [
    "# Task 6. What are 5 most occurring Crime Category Codes?\n",
    "# NOTE: Crime levels can be found in ucr_ncic_codes.tsv\n",
    "# order into descending and then get latest 5 records, that will be the most occuring crime codes\n",
    "from pyspark.sql.functions import desc\n",
    "\n",
    "# Task 6. Find the 5 most occurring Crime Category Codes\n",
    "# here i have also ignored null values\n",
    "# i used this - column name \"Crime Category Code\" contains spaces, so it is enclosed with backticks\n",
    "most_occurring_crime_codes = joined_both.filter(\"`Crime Category Code` IS NOT NULL\")\\\n",
    "                            .groupBy(\"Crime Category Code\").agg(count(\"*\").alias(\"crimes_count\"))\\\n",
    "                            .orderBy(desc(\"crimes_count\")).limit(5)\n",
    "\n",
    "most_occurring_crime_codes.show()"
   ]
  },
  {
   "cell_type": "code",
   "execution_count": 23,
   "metadata": {},
   "outputs": [],
   "source": [
    "# Task 7. What are 3 drugs most involved in crimes? (names and count)\n",
    "# NOTE: Crime levels can be found in ucr_ncic_codes.tsv\n"
   ]
  },
  {
   "cell_type": "code",
   "execution_count": 56,
   "metadata": {},
   "outputs": [
    {
     "name": "stdout",
     "output_type": "stream",
     "text": [
      "+-----------+-------------------+--------+----------+----+--------------------+-------------+-----------+------------+------+----+-----------+--------------+----------+-------------------+--------------------+--------------------+--------------------+------------------------------------+\n",
      "|  cdatetime|            address|district|      beat|grid|          crimedescr|ucr_ncic_code|   latitude|   longitude|  date|time|time_of_day|datetime_split|Crime Code|Crime Category Code|NCIC Charge Category|        Crime Charge|          Parameters|ICE Criminal Offense Level (Default)|\n",
      "+-----------+-------------------+--------+----------+----+--------------------+-------------+-----------+------------+------+----+-----------+--------------+----------+-------------------+--------------------+--------------------+--------------------+------------------------------------+\n",
      "|1/1/06 0:00| 3108 OCCIDENTAL DR|       3|3C        |1115|10851(A)VC TAKE V...|         2404|38.55042047|-121.3914158|1/1/06|0:00|      Night|[1/1/06, 0:00]|      2404|                 SV|      Stolen Vehicle|       Vehicle Theft|If the sentence i...|                             Level 2|\n",
      "|1/1/06 0:00|2082 EXPEDITION WAY|       5|5A        |1512|459 PC  BURGLARY ...|         2204|38.47350069|-121.4901858|1/1/06|0:00|      Night|[1/1/06, 0:00]|      2204|               BURG|            Burglary|Burglary - No For...|If the sentence i...|                             Level 1|\n",
      "|1/1/06 0:00|         4 PALEN CT|       2|2A        | 212|10851(A)VC TAKE V...|         2404|38.65784584|-121.4621009|1/1/06|0:00|      Night|[1/1/06, 0:00]|      2404|                 SV|      Stolen Vehicle|       Vehicle Theft|If the sentence i...|                             Level 2|\n",
      "|1/1/06 0:00|     22 BECKFORD CT|       6|6C        |1443|476 PC PASS FICTI...|         2501|38.50677377|-121.4269508|1/1/06|0:00|      Night|[1/1/06, 0:00]|      2501|               FORG|             Forgery|   Forgery Of Checks|If the sentence i...|                             Level 1|\n",
      "|1/1/06 0:00|   3421 AUBURN BLVD|       2|2A        | 508|459 PC  BURGLARY-...|         2299| 38.6374478|-121.3846125|1/1/06|0:00|      Night|[1/1/06, 0:00]|      2299|               BURG|            Burglary|            Burglary|If the sentence i...|                             Level 1|\n",
      "+-----------+-------------------+--------+----------+----+--------------------+-------------+-----------+------------+------+----+-----------+--------------+----------+-------------------+--------------------+--------------------+--------------------+------------------------------------+\n",
      "only showing top 5 rows\n",
      "\n"
     ]
    }
   ],
   "source": [
    "joined_both.show(5)"
   ]
  },
  {
   "cell_type": "code",
   "execution_count": 60,
   "metadata": {},
   "outputs": [
    {
     "name": "stdout",
     "output_type": "stream",
     "text": [
      "+--------------------+------------+\n",
      "|        Crime Charge|crimes_count|\n",
      "+--------------------+------------+\n",
      "|Dangerous Drugs (...|         129|\n",
      "|   Cocaine - Possess|          66|\n",
      "|Amphetamine - Pos...|          58|\n",
      "+--------------------+------------+\n",
      "\n"
     ]
    }
   ],
   "source": [
    "dangerous_drug_crimes = joined_both.filter(\"`NCIC Charge Category` = 'Dangerous Drugs'\")\n",
    "\n",
    "# Group by drug names and count occurrences\n",
    "top_drugs_involved = dangerous_drug_crimes.groupBy(\"`Crime Charge`\").agg(count(\"*\").alias(\"crimes_count\"))\\\n",
    "                            .orderBy(desc(\"crimes_count\")).limit(3)\n",
    "\n",
    "top_drugs_involved.show()"
   ]
  },
  {
   "cell_type": "code",
   "execution_count": null,
   "metadata": {},
   "outputs": [],
   "source": []
  }
 ],
 "metadata": {
  "kernelspec": {
   "display_name": "Python 3 (ipykernel)",
   "language": "python",
   "name": "python3"
  },
  "language_info": {
   "codemirror_mode": {
    "name": "ipython",
    "version": 3
   },
   "file_extension": ".py",
   "mimetype": "text/x-python",
   "name": "python",
   "nbconvert_exporter": "python",
   "pygments_lexer": "ipython3",
   "version": "3.12.0"
  }
 },
 "nbformat": 4,
 "nbformat_minor": 4
}
