{
 "cells": [
  {
   "cell_type": "code",
   "execution_count": 29,
   "id": "0f9028bd-86dd-41ca-98f1-922bab766889",
   "metadata": {},
   "outputs": [
    {
     "name": "stdout",
     "output_type": "stream",
     "text": [
      "Elapsed time: 0.6589879989624023 seconds\n",
      "(35,11,36...59,56,Cr)\n",
      "Elapsed time: 0.15508103370666504 seconds\n",
      "(35,11,36...59,56,Cr)\n",
      "Elapsed time: 0.02054286003112793 seconds\n"
     ]
    }
   ],
   "source": [
    "from pyspark import SparkConf, SparkContext\n",
    "from pyspark.sql import SparkSession\n",
    "from pyspark.sql import Row\n",
    "\n",
    "# Set up the Spark configuration\n",
    "conf = SparkConf().setAppName(\"Test\").setMaster(\"local[1]\")\n",
    "sc = SparkContext(conf=conf)\n",
    "spark = SparkSession(sc)\n",
    "\n",
    "# Execution time measurement for code blocks\n",
    "def time(block):\n",
    "    import time\n",
    "    t0 = time.time()\n",
    "    result = block()\n",
    "    t1 = time.time()\n",
    "    print(\"Elapsed time:\", (t1 - t0), \"seconds\")\n",
    "    return result\n",
    "\n",
    "def unoptimalCode1(text):\n",
    "    # Ignore empty lines\n",
    "    nonEmptyLines = text.filter(lambda x: len(x.strip()) > 0)\n",
    "\n",
    "    # Get first tab-separated token from each line (code)\n",
    "    codes = nonEmptyLines.map(lambda x: x.split('\\t')[0])\n",
    "\n",
    "    # Codes grouped by 2 first characters\n",
    "    groupedCodes = codes.groupBy(lambda x: x[:2])\n",
    "\n",
    "    # Compute sizes of all groups\n",
    "    groupSizes = groupedCodes.map(lambda group: (group[0], len(group[1])))\n",
    "\n",
    "    # Sort groups by sizes descending\n",
    "    sortedGroups = groupSizes.sortBy(lambda x: x[1], ascending=False)\n",
    "\n",
    "    # Get 3 groups with most members\n",
    "    top3Groups = sortedGroups.map(lambda x: x[0]).take(3)\n",
    "\n",
    "    # Sort groups by sizes ascending\n",
    "    sortedGroupsAsc = groupSizes.sortBy(lambda x: x[1])\n",
    "\n",
    "    # Get 3 groups with least members\n",
    "    bottom3Groups = sortedGroupsAsc.map(lambda x: x[0]).take(3)\n",
    "\n",
    "    return top3Groups, bottom3Groups\n",
    "\n",
    "def optimalCode1(text):\n",
    "    # Ignore empty lines and get the first tab-separated token\n",
    "    codes = (\n",
    "        text.filter(lambda x: len(x.strip()) > 0)\n",
    "        .map(lambda x: (x.split('\\t')[0][:2], 1))  # Map to (code_prefix, 1) pairs\n",
    "    )\n",
    "\n",
    "    # use shuffeling to reduce shuffeled data\n",
    "    # Use reduceByKey to efficiently calculate group sizes\n",
    "    # also use aggregate data based on keys\n",
    "    groupSizes = codes.reduceByKey(lambda x, y: x + y)\n",
    "\n",
    "    # Get the 3 groups with the most members\n",
    "    # takeOrdered used to get specified number of elements from data\n",
    "    top3Groups = groupSizes.takeOrdered(3, key=lambda x: -x[1])\n",
    "\n",
    "    # Get the 3 groups with the least members\n",
    "    bottom3Groups = groupSizes.takeOrdered(3, key=lambda x: x[1])\n",
    "\n",
    "    return [group[0] for group in top3Groups], [group[0] for group in bottom3Groups]\n",
    "\n",
    "\n",
    "# def unoptimalCode2(crimesDb, commitedCrimes):\n",
    "#     # TODO: Implement unoptimalCode2\n",
    "#     pass\n",
    "\n",
    "def optimalCode2(crimesDb, commitedCrimes):\n",
    "    # use shared variable\n",
    "    # Broadcast crimesDb to all worker nodes for efficient lookup\n",
    "    crimesBroadcast = sc.broadcast(set(crimesDb.collect()))\n",
    "\n",
    "    # caching\n",
    "    # Filter commited crimes using broadcasted crimesDb for efficient lookup\n",
    "    # if we run this code second time it take much less time\n",
    "    matchingCrimes = commitedCrimes.filter(lambda x: x in crimesBroadcast.value)\n",
    "\n",
    "    return matchingCrimes\n",
    "\n",
    "if __name__ == \"__main__\":\n",
    "    # Read text into RDD\n",
    "    crimeCategories = sc.textFile(\"ucr_ncic_codes.tsv\")\n",
    "\n",
    "    # Measure time for unoptimalCode1\n",
    "    top, bottom = time(lambda: unoptimalCode1(crimeCategories))\n",
    "    print(f\"({','.join(top)}...{','.join(bottom[::-1])})\")\n",
    "\n",
    "    # Measure time for optimalCode1\n",
    "    top2, bottom2 = time(lambda: optimalCode1(crimeCategories))\n",
    "    print(f\"({','.join(top)}...{','.join(bottom[::-1])})\")\n",
    "\n",
    "    # Read commited crimes data\n",
    "    commitedCrimes = sc.textFile(\"SacramentocrimeJanuary2006.csv\")\n",
    "\n",
    "    # Measure time for unoptimalCode2\n",
    "    time(lambda: optimalCode2(crimeCategories, commitedCrimes))\n"
   ]
  },
  {
   "cell_type": "code",
   "execution_count": 24,
   "id": "a8cb2b6c-c76e-4fca-9e45-8ea798a72c6d",
   "metadata": {},
   "outputs": [
    {
     "data": {
      "text/html": [
       "\n",
       "        <div>\n",
       "            <p><b>SparkContext</b></p>\n",
       "\n",
       "            <p><a href=\"http://192.168.201.38:4040\">Spark UI</a></p>\n",
       "\n",
       "            <dl>\n",
       "              <dt>Version</dt>\n",
       "                <dd><code>v3.5.0</code></dd>\n",
       "              <dt>Master</dt>\n",
       "                <dd><code>local[1]</code></dd>\n",
       "              <dt>AppName</dt>\n",
       "                <dd><code>Test</code></dd>\n",
       "            </dl>\n",
       "        </div>\n",
       "        "
      ],
      "text/plain": [
       "<SparkContext master=local[1] appName=Test>"
      ]
     },
     "execution_count": 24,
     "metadata": {},
     "output_type": "execute_result"
    }
   ],
   "source": [
    "sc"
   ]
  },
  {
   "cell_type": "code",
   "execution_count": 23,
   "id": "d666522b-79a6-4d08-aff5-221a56d00cce",
   "metadata": {},
   "outputs": [
    {
     "data": {
      "text/plain": [
       "<function __main__.<lambda>()>"
      ]
     },
     "execution_count": 23,
     "metadata": {},
     "output_type": "execute_result"
    }
   ],
   "source": [
    "import atexit\n",
    "\n",
    "\n",
    "atexit.register(lambda: sc.stop())"
   ]
  },
  {
   "cell_type": "code",
   "execution_count": 28,
   "id": "0c1d9f9f-6d04-4d94-a92c-2766afa044bb",
   "metadata": {},
   "outputs": [],
   "source": [
    "sc.stop()"
   ]
  },
  {
   "cell_type": "code",
   "execution_count": null,
   "id": "f8fe0b40-a3de-4637-b18f-ddb75e03e38d",
   "metadata": {},
   "outputs": [],
   "source": []
  }
 ],
 "metadata": {
  "kernelspec": {
   "display_name": "Python 3 (ipykernel)",
   "language": "python",
   "name": "python3"
  },
  "language_info": {
   "codemirror_mode": {
    "name": "ipython",
    "version": 3
   },
   "file_extension": ".py",
   "mimetype": "text/x-python",
   "name": "python",
   "nbconvert_exporter": "python",
   "pygments_lexer": "ipython3",
   "version": "3.12.0"
  }
 },
 "nbformat": 4,
 "nbformat_minor": 5
}
